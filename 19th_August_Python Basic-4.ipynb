{
 "cells": [
  {
   "cell_type": "markdown",
   "id": "9ad57240-f621-4e84-860d-c286780229a0",
   "metadata": {},
   "source": [
    "### PYTHON BASIC VARIABLE"
   ]
  },
  {
   "cell_type": "markdown",
   "id": "e9f6b63d-823a-44e4-81d8-0d80dc7f1d67",
   "metadata": {},
   "source": [
    "Q1 - Declare two variables, `x` and `y`, and assign them integer values. Swap the\n",
    "values of these variables without using any temporary variable."
   ]
  },
  {
   "cell_type": "code",
   "execution_count": 2,
   "id": "b7a427a6-ff0d-489b-9434-a6b03f07b32b",
   "metadata": {},
   "outputs": [
    {
     "name": "stdin",
     "output_type": "stream",
     "text": [
      "Enter the x number 3\n",
      "Enter the y number 4\n"
     ]
    },
    {
     "name": "stdout",
     "output_type": "stream",
     "text": [
      "Value of x is 4\n",
      "Value of y is 3\n"
     ]
    }
   ],
   "source": [
    "x = int(input(\"Enter the x number\"))\n",
    "y = int(input(\"Enter the y number\"))\n",
    "\n",
    "x,y = y,x\n",
    "print(f\"Value of x is {x}\")\n",
    "print(f\"Value of y is {y}\")"
   ]
  },
  {
   "cell_type": "markdown",
   "id": "9d47a0f2-7820-4319-bd9a-45510b9f752e",
   "metadata": {},
   "source": [
    "Q2 - Create a program that calculates the area of a rectangle. Take the length and\n",
    "width as inputs from the user and store them in variables. Calculate and\n",
    "display the area."
   ]
  },
  {
   "cell_type": "code",
   "execution_count": 5,
   "id": "5e91de32-aa74-450b-8f30-6b668070c226",
   "metadata": {},
   "outputs": [
    {
     "name": "stdin",
     "output_type": "stream",
     "text": [
      "Enter the length 34\n",
      "Enter the width 2\n"
     ]
    },
    {
     "name": "stdout",
     "output_type": "stream",
     "text": [
      "Area of Rectangle is 68\n"
     ]
    }
   ],
   "source": [
    "l = int(input(\"Enter the length\"))\n",
    "w = int(input(\"Enter the width\"))\n",
    "\n",
    "area = l*w\n",
    "print(f\"Area of Rectangle is {area}\")"
   ]
  },
  {
   "cell_type": "markdown",
   "id": "9e3f2d92-e204-4216-bf26-fdba9538591b",
   "metadata": {},
   "source": [
    "Q3 - Write a Python program that converts temperatures from Celsius to\n",
    "Fahrenheit. Take the temperature in Celsius as input, store it in a variable,\n",
    "convert it to Fahrenheit, and display the result."
   ]
  },
  {
   "cell_type": "code",
   "execution_count": 6,
   "id": "914968b7-d0e9-4b03-bfa6-4c72667f3a7a",
   "metadata": {},
   "outputs": [
    {
     "name": "stdin",
     "output_type": "stream",
     "text": [
      "Enter the Temperature 25\n"
     ]
    },
    {
     "name": "stdout",
     "output_type": "stream",
     "text": [
      "Temperature in Fahrenheit is 77.0\n"
     ]
    }
   ],
   "source": [
    "c_celsius = int(input(\"Enter the Temperature\"))\n",
    "f_temp = c_celsius * 9/5 +32\n",
    "print(f\"Temperature in Fahrenheit is {f_temp}\") "
   ]
  },
  {
   "cell_type": "markdown",
   "id": "247dd8c0-c06b-4e00-b097-b1e0242af46e",
   "metadata": {},
   "source": [
    "### STRING BASED QUESTIONS"
   ]
  },
  {
   "cell_type": "markdown",
   "id": "aaa2c847-0ad2-443f-8006-bcd0e5fade6b",
   "metadata": {},
   "source": [
    "Q1 - Write a Python program that takes a string as input and prints the length of\n",
    "the string. "
   ]
  },
  {
   "cell_type": "code",
   "execution_count": 8,
   "id": "5ba08cda-80cc-4bde-8f63-079a7b0088ac",
   "metadata": {},
   "outputs": [
    {
     "name": "stdin",
     "output_type": "stream",
     "text": [
      "Enter the String anushkatripathi\n"
     ]
    },
    {
     "name": "stdout",
     "output_type": "stream",
     "text": [
      "Length of the String is 15\n"
     ]
    }
   ],
   "source": [
    "s = input(\"Enter the String\")\n",
    "print(f\"Length of the String is {len(s)}\")"
   ]
  },
  {
   "cell_type": "markdown",
   "id": "c2b8e625-4a67-448d-8513-c4985d7aa019",
   "metadata": {},
   "source": [
    "Q2 - Create a program that takes a sentence from the user and counts the number\n",
    "of vowels (a, e, i, o, u) in the string."
   ]
  },
  {
   "cell_type": "code",
   "execution_count": 13,
   "id": "d166363f-4459-4113-9d08-ff2853bf864c",
   "metadata": {},
   "outputs": [
    {
     "name": "stdin",
     "output_type": "stream",
     "text": [
      "Enter the sentence how are you?\n"
     ]
    },
    {
     "name": "stdout",
     "output_type": "stream",
     "text": [
      "5\n"
     ]
    }
   ],
   "source": [
    "statement = input(\"Enter the sentence\")\n",
    "count = 0\n",
    "vowels = ['a','e','i','o','u']\n",
    "for i in statement:\n",
    "    if i in vowels:\n",
    "        count = count+1\n",
    "print(count)\n",
    "        "
   ]
  },
  {
   "cell_type": "markdown",
   "id": "bd6428f4-a72f-4bc3-99a2-a0f09afd0dae",
   "metadata": {},
   "source": [
    "Q3 - Given a string, reverse the order of characters using string slicing and print\n",
    "the reversed string."
   ]
  },
  {
   "cell_type": "code",
   "execution_count": 15,
   "id": "8d1ee7be-6460-489e-b3d0-dc7df15dcd45",
   "metadata": {},
   "outputs": [
    {
     "name": "stdin",
     "output_type": "stream",
     "text": [
      "Enter the string train is late\n"
     ]
    },
    {
     "name": "stdout",
     "output_type": "stream",
     "text": [
      "etal si niart\n"
     ]
    }
   ],
   "source": [
    "s = input(\"Enter the string\")\n",
    "s1 = s[::-1]\n",
    "print(s1)"
   ]
  },
  {
   "cell_type": "markdown",
   "id": "8c70fc57-92ba-44ad-8c67-7ad6886baaed",
   "metadata": {},
   "source": [
    "Q4 - Write a program that takes a string as input and checks if it is a palindrome\n",
    "(reads the same forwards and backwards)."
   ]
  },
  {
   "cell_type": "code",
   "execution_count": 2,
   "id": "5238d4c3-f0d2-4c29-9e0a-c1737345258c",
   "metadata": {},
   "outputs": [
    {
     "name": "stdin",
     "output_type": "stream",
     "text": [
      "Enter the string anushka\n"
     ]
    },
    {
     "name": "stdout",
     "output_type": "stream",
     "text": [
      "String is not Palindrome\n"
     ]
    }
   ],
   "source": [
    "s = input(\"Enter the string\")\n",
    "p_string = s[::-1]\n",
    "\n",
    "if s == p_string:\n",
    "    print(\"String is Palindrome\")\n",
    "else:\n",
    "    print(\"String is not Palindrome\")"
   ]
  },
  {
   "cell_type": "markdown",
   "id": "09bb433f-cf79-448e-80a8-4d638fe759cc",
   "metadata": {},
   "source": [
    "Q5 - Create a program that takes a string as input and removes all the spaces from\n",
    "it. Print the modified string without spaces."
   ]
  },
  {
   "cell_type": "code",
   "execution_count": 3,
   "id": "332c7926-7df2-4178-add3-1efe367a2fa6",
   "metadata": {},
   "outputs": [
    {
     "name": "stdin",
     "output_type": "stream",
     "text": [
      "enter the string a j sj ytfgxcvhs llll d a e g df\n"
     ]
    },
    {
     "name": "stdout",
     "output_type": "stream",
     "text": [
      "ajsjytfgxcvhslllldaegdf\n"
     ]
    }
   ],
   "source": [
    "s = input(\"enter the string\")\n",
    "s1 = s.replace(\" \",\"\")\n",
    "print(s1)"
   ]
  },
  {
   "cell_type": "code",
   "execution_count": null,
   "id": "ff8d7d9b-3da6-442f-abfc-0c08e803e41f",
   "metadata": {},
   "outputs": [],
   "source": []
  }
 ],
 "metadata": {
  "kernelspec": {
   "display_name": "Python 3 (ipykernel)",
   "language": "python",
   "name": "python3"
  },
  "language_info": {
   "codemirror_mode": {
    "name": "ipython",
    "version": 3
   },
   "file_extension": ".py",
   "mimetype": "text/x-python",
   "name": "python",
   "nbconvert_exporter": "python",
   "pygments_lexer": "ipython3",
   "version": "3.10.8"
  }
 },
 "nbformat": 4,
 "nbformat_minor": 5
}
